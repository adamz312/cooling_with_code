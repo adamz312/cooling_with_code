{
 "cells": [
  {
   "cell_type": "markdown",
   "metadata": {},
   "source": [
    "# Set Up"
   ]
  },
  {
   "cell_type": "markdown",
   "metadata": {},
   "source": [
    "## Mount Google Drive"
   ]
  },
  {
   "cell_type": "markdown",
   "metadata": {},
   "source": [
    "Ignore if not using Google Collab:"
   ]
  },
  {
   "cell_type": "code",
   "execution_count": null,
   "metadata": {},
   "outputs": [],
   "source": [
    "from google.colab import drive\n",
    "\n",
    "# mount google drive\n",
    "drive.mount('/content/drive')\n",
    "%cd /content/drive/My Drive\n",
    "!git clone https://github.com/FranciscoLozCoding/cooling_with_code.git\n",
    "%cd cooling_with_code\n",
    "!git pull"
   ]
  },
  {
   "cell_type": "markdown",
   "metadata": {},
   "source": [
    "## Import Libraries"
   ]
  },
  {
   "cell_type": "code",
   "execution_count": null,
   "metadata": {},
   "outputs": [],
   "source": [
    "#custom tools for this project\n",
    "from tools import *"
   ]
  },
  {
   "cell_type": "markdown",
   "metadata": {},
   "source": [
    "# Generating a 200m Buffer Dataset"
   ]
  },
  {
   "cell_type": "markdown",
   "metadata": {},
   "source": [
    "This notebook is for generating a new dataset using 200m Buffer Zones. After doing [04_EDA](/04_EDA.ipynb) we found that increasing the buffer zone from 150m to a value between 200m and 40mm it might help our models capture the relationship between vegeatation and UHI better. For details on how we generate our datasets see our past notebooks:\n",
    "- [01_dataset_generation](/01_dataset_generation.ipynb)\n",
    "- [02_more_dataset_generation](/02_more_dataset_generation.ipynb)"
   ]
  },
  {
   "cell_type": "markdown",
   "metadata": {},
   "source": [
    "# Evaluating the 200m Buffer Dataset"
   ]
  },
  {
   "cell_type": "markdown",
   "metadata": {},
   "source": [
    ">TODO: Create a simple RF regressor and compare to 150m simple RF regressor"
   ]
  }
 ],
 "metadata": {
  "kernelspec": {
   "display_name": "urban_heat",
   "language": "python",
   "name": "python3"
  },
  "language_info": {
   "name": "python",
   "version": "3.13.1"
  }
 },
 "nbformat": 4,
 "nbformat_minor": 2
}
