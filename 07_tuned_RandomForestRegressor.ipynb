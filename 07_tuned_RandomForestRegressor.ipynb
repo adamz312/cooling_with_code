{
  "cells": [
    {
      "cell_type": "markdown",
      "metadata": {
        "id": "n-0KsK_98N6G"
      },
      "source": [
        "# Set Up"
      ]
    },
    {
      "cell_type": "markdown",
      "metadata": {
        "id": "sE34E4pi8N6I"
      },
      "source": [
        "## Mount Google Drive"
      ]
    },
    {
      "cell_type": "markdown",
      "metadata": {
        "id": "xfHrc9N18N6J"
      },
      "source": [
        "Ignore if not using Google Collab:"
      ]
    },
    {
      "cell_type": "code",
      "execution_count": null,
      "metadata": {
        "id": "9PsylKGt8N6K"
      },
      "outputs": [],
      "source": [
        "from google.colab import drive\n",
        "\n",
        "# mount google drive\n",
        "drive.mount('/content/drive')\n",
        "%cd /content/drive/My Drive\n",
        "!git clone https://github.com/FranciscoLozCoding/cooling_with_code.git\n",
        "%cd cooling_with_code\n",
        "!git pull"
      ]
    },
    {
      "cell_type": "markdown",
      "metadata": {
        "id": "zVuyXoGn8N6K"
      },
      "source": [
        "## Import Libraries"
      ]
    },
    {
      "cell_type": "code",
      "execution_count": null,
      "metadata": {
        "id": "IGYPQz5V8N6L"
      },
      "outputs": [],
      "source": [
        "# Supress Warnings\n",
        "import warnings\n",
        "warnings.filterwarnings('ignore')\n",
        "\n",
        "#data science\n",
        "import pandas as pd\n",
        "import numpy as np\n",
        "from sklearn.model_selection import train_test_split\n",
        "from sklearn.preprocessing import StandardScaler\n",
        "from sklearn.ensemble import RandomForestRegressor\n",
        "from sklearn.metrics import mean_squared_error, r2_score\n",
        "from sklearn.tree import plot_tree\n",
        "import matplotlib.pyplot as plt\n",
        "import pickle\n",
        "\n",
        "#custom tools\n",
        "from tools.environment import VALID_SPLIT, RANDOM_STATE\n",
        "from tools.feature_selection import load_and_prepare_data, get_feature_importance, plot_feature_importance_comparison\n",
        "from tools.distribution import plot_target_var_distribution"
      ]
    },
    {
      "cell_type": "markdown",
      "metadata": {
        "id": "PFCTdUvt8N6M"
      },
      "source": [
        "## Import Datasets"
      ]
    },
    {
      "cell_type": "code",
      "execution_count": null,
      "metadata": {
        "id": "aQC_coef8N6M"
      },
      "outputs": [],
      "source": [
        "#load in datasets\n",
        "all_dataset = pd.read_csv('data/train/150m_buffer_dataset.csv')\n",
        "x_train, x_valid, y_train, y_valid = load_and_prepare_data(\n",
        "    'data/train/150m_buffer_dataset.csv', split=True,\n",
        "    test_size=VALID_SPLIT, random_state=RANDOM_STATE)"
      ]
    },
    {
      "cell_type": "markdown",
      "metadata": {
        "id": "Tlq3yNM48N6M"
      },
      "source": [
        "# Tuning RandomForestRegressor"
      ]
    },
    {
      "cell_type": "markdown",
      "metadata": {
        "id": "4BYks4-Q8N6M"
      },
      "source": [
        "This notebook is for tuning our RandomForestRegressor. It was first created as a simple model for us to use as a baseline comparison. Now, we will apply what we learned in [04_EDA](/04_EDA.ipynb) to improve the model. For details on the train/test dataset refer to our past notebooks:\n",
        "- [01_dataset_generation](/01_dataset_generation.ipynb)\n",
        "- [02_more_dataset_generation](/02_more_dataset_generation.ipynb)"
      ]
    },
    {
      "cell_type": "markdown",
      "metadata": {},
      "source": []
    }
  ],
  "metadata": {
    "colab": {
      "provenance": []
    },
    "kernelspec": {
      "display_name": "urban_heat",
      "language": "python",
      "name": "python3"
    },
    "language_info": {
      "name": "python",
      "version": "3.13.1"
    }
  },
  "nbformat": 4,
  "nbformat_minor": 0
}
